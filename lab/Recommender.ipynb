{
 "cells": [
  {
   "cell_type": "code",
   "execution_count": 33,
   "id": "1168217c-b998-4493-8260-c0d3938fef9f",
   "metadata": {},
   "outputs": [],
   "source": [
    "import pandas as pd\n",
    "import numpy as np\n",
    "from bidict import bidict\n",
    "from scipy.sparse import coo_matrix,csr_matrix\n",
    "import implicit\n",
    "from implicit import evaluation\n",
    "import ray\n",
    "import logging\n",
    "from ray import tune\n",
    "import pickle\n",
    "import os\n",
    "def shell(command):\n",
    "    stream = os.popen(command)\n",
    "    return stream.read()    \n",
    "# from dsrecommender.trainer import train_test_split\n",
    "logger = logging.getLogger(__name__)\n",
    "def map_ids(row, mapper) -> int:\n",
    "    return mapper[row]\n",
    "\n",
    "\n",
    "def train_test_split(ratings, K=1, train_only_size=0.0, random_state=None):\n",
    "    if K < 1:\n",
    "        raise ValueError(\"The 'K' must be >= 1.\")\n",
    "    if not 0.0 <= train_only_size < 1.0:\n",
    "        raise ValueError(\"The 'train_only_size' must be in the range (0.0 <= x < 1.0).\")\n",
    "\n",
    "    ratings = ratings.tocoo()  # this will sort row/cols unless ratings is COO.\n",
    "#     random_state = check_random_state(random_state)\n",
    "\n",
    "    users = ratings.row\n",
    "    items = ratings.col\n",
    "    data = ratings.data\n",
    "    \n",
    "    unique_users, counts = np.unique(users, return_counts=True)\n",
    "\n",
    "    # get only users with n + 1 interactions\n",
    "    candidate_mask = counts > K + 1\n",
    "\n",
    "    # keep a given subset of users _only_ in the training set.\n",
    "    if train_only_size > 0.0:\n",
    "        train_only_mask = ~np.isin(\n",
    "            unique_users, _choose(random_state, len(unique_users), train_only_size)\n",
    "        )\n",
    "        candidate_mask = train_only_mask & candidate_mask\n",
    "\n",
    "    # get unique users who appear in the test set\n",
    "    unique_candidate_users = unique_users[candidate_mask]\n",
    "    full_candidate_mask = np.isin(users, unique_candidate_users)\n",
    "\n",
    "    # get all users, items and ratings that match specified requirements to be\n",
    "    # included in test set.\n",
    "    candidate_users = users[full_candidate_mask]\n",
    "    candidate_items = items[full_candidate_mask]\n",
    "    candidate_data = data[full_candidate_mask]\n",
    "\n",
    "    test_idx, train_idx = _take_tails(\n",
    "        candidate_users, K, shuffled=True, return_complement=True\n",
    "    )\n",
    "\n",
    "    # get all remaining remaining candidate user-item pairs, and prepare to append to\n",
    "    # training set.\n",
    "    train_idx = np.setdiff1d(np.arange(len(candidate_users), dtype=int), test_idx)\n",
    "\n",
    "    # build test matrix\n",
    "    test_users = candidate_users[test_idx]\n",
    "    test_items = candidate_items[test_idx]\n",
    "    test_data = candidate_data[test_idx]\n",
    "    test_mat = csr_matrix(\n",
    "        (test_data, (test_users, test_items)), shape=ratings.shape, dtype=ratings.dtype\n",
    "    )\n",
    "\n",
    "    # build training matrix\n",
    "    train_users = np.r_[users[~full_candidate_mask], candidate_users[train_idx]]\n",
    "    train_items = np.r_[items[~full_candidate_mask], candidate_items[train_idx]]\n",
    "    train_data = np.r_[data[~full_candidate_mask], candidate_data[train_idx]]\n",
    "    train_mat = csr_matrix(\n",
    "        (train_data, (train_users, train_items)),\n",
    "        shape=ratings.shape,\n",
    "        dtype=ratings.dtype,\n",
    "    )\n",
    "\n",
    "    return train_mat, test_mat\n",
    "\n",
    "# Credit: https://github.com/benfred/implicit/blob/master/implicit/evaluation.pyx#L145\n",
    "def _choose(rng,  n, frac):\n",
    "    size = max(1, int(n * frac))\n",
    "    arr = rng.choice(n, size=size, replace=False)\n",
    "    return arr\n",
    "\n",
    "def _take_tails(arr,n, return_complement=False, shuffled=False):\n",
    "    idx = arr.argsort()\n",
    "    sorted_arr = arr[idx]\n",
    "\n",
    "    end = np.bincount(sorted_arr).cumsum() - 1\n",
    "    start = end - n\n",
    "    ranges = np.linspace(start, end, num=n + 1, dtype=int)[1:]\n",
    "\n",
    "    if shuffled:\n",
    "        shuffled_idx = (sorted_arr + np.random.random(arr.shape)).argsort()\n",
    "        tails = shuffled_idx[np.ravel(ranges, order=\"f\")]\n",
    "    else:\n",
    "        tails = np.ravel(ranges, order=\"f\")\n",
    "\n",
    "    heads = np.setdiff1d(idx, tails)\n",
    "\n",
    "    if return_complement:\n",
    "        return idx[tails], idx[heads]\n",
    "    else:\n",
    "        return idx[tails]\n",
    "    \n",
    "def to_pickle(data,path): \n",
    "    with open(path,\"wb\") as f:\n",
    "        pickle.dump(data,f)\n",
    "        \n",
    "def from_pickle(path): \n",
    "    return pickle.load(open(path,'rb'))\n",
    "    \n",
    "def load_data(path,frac=1):\n",
    "    print(f\"Loading data from {path} \")\n",
    "    df = pd.read_csv(path,\n",
    "                 header=0,\n",
    "                 names=[\"user\",\"item\"])\n",
    "    df[\"item\"] = df.item.str.split('|')\n",
    "    df = df.explode(\"item\")\n",
    "    df=df.reset_index().drop(\"index\",axis=1)\n",
    "    if frac < 1:\n",
    "        print(f\"Sampled data frac: {frac}\" )\n",
    "        return df.sample(frac=frac)\n",
    "    else:\n",
    "        print(f\"Loaded data from {path}. Not sampled.\" )\n",
    "        return df\n",
    "\n",
    "def process_data(df):\n",
    "\n",
    "    usersdict = bidict({user:i for i,user in enumerate(df.user.unique())})\n",
    "    itemsdict = bidict({item:i for i,item in enumerate(df.item.unique())})\n",
    "    print('Sparsity: {:4.3f}%'.format(float(df.shape[0]) / float(len(usersdict)*len(itemsdict)) * 100))\n",
    "\n",
    "    users=df.user.apply(map_ids,args=[usersdict]).to_numpy()\n",
    "    items=df.item.apply(map_ids,args=[itemsdict]).to_numpy()\n",
    "    ratings = np.ones(len(items))\n",
    "    matrix = coo_matrix((ratings, (users, items))).tocsr()\n",
    "\n",
    "    K=4\n",
    "    train_only_size=0.75\n",
    "    random_state = np.random.RandomState(42)\n",
    "    train, test = train_test_split(matrix,K,train_only_size,random_state)\n",
    "\n",
    "    return {\"train\":train,\"test\":test}\n",
    "\n",
    "def _train(config,data=None):\n",
    "\n",
    "    \n",
    "#     train = data[\"train\"].copy()\n",
    "#     test = data[\"test\"].copy()\n",
    "\n",
    "    import implicit\n",
    "    from implicit import evaluation\n",
    "    \n",
    "    logger.info(\"Training with BayesianPersonalizedRanking\")\n",
    "    model = implicit.bpr.BayesianPersonalizedRanking(**config,use_gpu=True)\n",
    "\n",
    "    model.fit(train.T)\n",
    "    # auc = evaluation.AUC_at_k(model,train,test)\n",
    "    patk = evaluation.precision_at_k(model,train,test)\n",
    "    tune.report(patk=patk)"
   ]
  },
  {
   "cell_type": "code",
   "execution_count": 34,
   "id": "53727e87-373f-410b-a045-161cb3d1a996",
   "metadata": {},
   "outputs": [
    {
     "name": "stdout",
     "output_type": "stream",
     "text": [
      "Loading data from s3://unext-datascience-prod/jobs/ippanreco/user_watched_sakuhins.csv.gz \n",
      "Loaded data from s3://unext-datascience-prod/jobs/ippanreco/user_watched_sakuhins.csv.gz. Not sampled.\n"
     ]
    }
   ],
   "source": [
    "data = load_data(\"s3://unext-datascience-prod/jobs/ippanreco/user_watched_sakuhins.csv.gz\")\n",
    "# data = load_data(\"s3://unext-datascience-prod/jobs/ippanreco/user_watched_sakuhins_10percent.csv\")\n",
    "# data = load_data(\"s3://unext-datascience-prod/jobs/ippanreco/user_watched_sakuhins_small.csv\")"
   ]
  },
  {
   "cell_type": "code",
   "execution_count": 35,
   "id": "db731755-695f-487c-9d55-df56cbb8e58f",
   "metadata": {},
   "outputs": [
    {
     "name": "stdout",
     "output_type": "stream",
     "text": [
      "Sparsity: 0.088%\n"
     ]
    }
   ],
   "source": [
    "data = process_data(data)"
   ]
  },
  {
   "cell_type": "code",
   "execution_count": 36,
   "id": "10cb6834-f97b-48e9-8c95-2688eab2f594",
   "metadata": {},
   "outputs": [],
   "source": [
    "to_pickle(data,\"/home/ray/data/traindata.pkl\")"
   ]
  },
  {
   "cell_type": "code",
   "execution_count": 40,
   "id": "edc51d33-6cfc-4c7f-8779-e72cd61d5214",
   "metadata": {},
   "outputs": [],
   "source": [
    "data = from_pickle(\"/home/ray/data/traindata.pkl\")"
   ]
  },
  {
   "cell_type": "code",
   "execution_count": 38,
   "id": "9ffdc50d-9b8e-4c18-a8b4-67a9e0d90db3",
   "metadata": {},
   "outputs": [
    {
     "name": "stdout",
     "output_type": "stream",
     "text": [
      "total 633M\n",
      "drwxr-xr-x 2 root root    40 Jun  5 09:01 .\n",
      "drwxr-xr-x 1 ray  users  152 Jun  5 09:00 ..\n",
      "-rw-r--r-- 1 root root     0 Jun  5 09:00 t.txt\n",
      "-rw-r--r-- 1 root root  633M Jun  5 09:15 traindata.pkl\n"
     ]
    }
   ],
   "source": [
    "!ls -lah /home/ray/data/"
   ]
  },
  {
   "cell_type": "code",
   "execution_count": 42,
   "id": "c51189a4-27f8-4d34-9a04-4fdb85056ede",
   "metadata": {},
   "outputs": [
    {
     "name": "stdout",
     "output_type": "stream",
     "text": [
      "upload: ../data/traindata.pkl to s3://unext-datascience-prod/jobs/ippanreco/traindata.pkl\n"
     ]
    }
   ],
   "source": [
    "!aws s3 cp /home/ray/data/traindata.pkl s3://unext-datascience-prod/jobs/ippanreco/"
   ]
  },
  {
   "cell_type": "code",
   "execution_count": null,
   "id": "d64a07c7-4186-4e2d-b8c5-f3dc162af30f",
   "metadata": {},
   "outputs": [],
   "source": [
    "# ray.init(num_gpus=1)\n",
    "ray.util.connect(\"ray20dev-ray-head:10001\")"
   ]
  },
  {
   "cell_type": "code",
   "execution_count": null,
   "id": "73f7525d-7b7f-4e36-a87e-6ce925da71bc",
   "metadata": {},
   "outputs": [],
   "source": [
    "ray.cluster_resources()"
   ]
  },
  {
   "cell_type": "code",
   "execution_count": null,
   "id": "b9f0ef37-5380-44fe-ac26-c40d31991816",
   "metadata": {},
   "outputs": [],
   "source": [
    "ray.nodes()"
   ]
  },
  {
   "cell_type": "code",
   "execution_count": null,
   "id": "52082650-4eb3-4f80-b7a1-35a8ed3d5f71",
   "metadata": {},
   "outputs": [],
   "source": [
    "analysis = tune.run(\n",
    "    tune.with_parameters(_train, data=data),\n",
    "    metric=\"patk\",\n",
    "    mode=\"max\",\n",
    "    num_samples=1,\n",
    "    resources_per_trial={\"cpu\": 3,\"gpu\": 1},\n",
    "    config={\n",
    "        \"factors\": tune.grid_search([191,223,255,287]),\n",
    "#         \"learning_rate\":tune.uniform(0.01, 0.2),\n",
    "#         \"regularization\":tune.uniform(0.01, 0.2),\n",
    "#         \"iterations\":tune.grid_search([80,100,120]),\n",
    "#         \"verify_negative_samples\":tune.choice([True, False]),\n",
    "#         \"random_state\":np.random.RandomState(42)        \n",
    "    }\n",
    ")\n",
    "print(\"Best params: \", analysis.best_config)\n",
    "print(\"Best result: \", analysis.best_result)"
   ]
  }
 ],
 "metadata": {
  "kernelspec": {
   "display_name": "Python 3",
   "language": "python",
   "name": "python3"
  },
  "language_info": {
   "codemirror_mode": {
    "name": "ipython",
    "version": 3
   },
   "file_extension": ".py",
   "mimetype": "text/x-python",
   "name": "python",
   "nbconvert_exporter": "python",
   "pygments_lexer": "ipython3",
   "version": "3.7.7"
  },
  "toc-autonumbering": true,
  "toc-showcode": false,
  "toc-showmarkdowntxt": false
 },
 "nbformat": 4,
 "nbformat_minor": 5
}
