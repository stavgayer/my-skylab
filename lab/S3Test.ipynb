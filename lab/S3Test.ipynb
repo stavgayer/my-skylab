{
 "cells": [
  {
   "cell_type": "code",
   "execution_count": 9,
   "id": "527bab64-795e-4db0-a0ca-f3e97f17a45b",
   "metadata": {},
   "outputs": [],
   "source": [
    "import os\n",
    "def shell(command):\n",
    "    stream = os.popen(command)\n",
    "    return stream.read()    "
   ]
  },
  {
   "cell_type": "code",
   "execution_count": 14,
   "id": "41551afe-c3af-42d6-8aa1-8fa0572d3036",
   "metadata": {},
   "outputs": [],
   "source": [
    "a=shell(\"aws s3 cp s3://unext-datascience-prod/jobs/ippanreco/user_watched_sakuhins_10percent.csv data/\")"
   ]
  },
  {
   "cell_type": "code",
   "execution_count": null,
   "id": "626e0c94-479a-4682-9224-8ae31abf589c",
   "metadata": {},
   "outputs": [],
   "source": []
  }
 ],
 "metadata": {
  "kernelspec": {
   "display_name": "Python 3",
   "language": "python",
   "name": "python3"
  },
  "language_info": {
   "codemirror_mode": {
    "name": "ipython",
    "version": 3
   },
   "file_extension": ".py",
   "mimetype": "text/x-python",
   "name": "python",
   "nbconvert_exporter": "python",
   "pygments_lexer": "ipython3",
   "version": "3.7.7"
  }
 },
 "nbformat": 4,
 "nbformat_minor": 5
}
